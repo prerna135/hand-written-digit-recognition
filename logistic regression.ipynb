{
 "cells": [
  {
   "cell_type": "code",
   "execution_count": 1,
   "metadata": {
    "collapsed": true
   },
   "outputs": [],
   "source": [
    "import tensorflow as tf\n",
    "import matplotlib.pyplot as pylt\n",
    "import numpy as np\n",
    "from tensorflow.examples.tutorials.mnist import input_data\n",
    "import time"
   ]
  },
  {
   "cell_type": "code",
   "execution_count": 21,
   "metadata": {
    "collapsed": true
   },
   "outputs": [],
   "source": [
    "learning_rate = 0.01\n",
    "batch_size = 128\n",
    "n_epochs = 25"
   ]
  },
  {
   "cell_type": "code",
   "execution_count": 4,
   "metadata": {
    "collapsed": false
   },
   "outputs": [
    {
     "name": "stdout",
     "output_type": "stream",
     "text": [
      "Successfully downloaded train-images-idx3-ubyte.gz 9912422 bytes.\n",
      "Extracting ./data/mnist/train-images-idx3-ubyte.gz\n",
      "Successfully downloaded train-labels-idx1-ubyte.gz 28881 bytes.\n",
      "Extracting ./data/mnist/train-labels-idx1-ubyte.gz\n",
      "Successfully downloaded t10k-images-idx3-ubyte.gz 1648877 bytes.\n",
      "Extracting ./data/mnist/t10k-images-idx3-ubyte.gz\n",
      "Successfully downloaded t10k-labels-idx1-ubyte.gz 4542 bytes.\n",
      "Extracting ./data/mnist/t10k-labels-idx1-ubyte.gz\n"
     ]
    }
   ],
   "source": [
    "mnist = input_data.read_data_sets('./data/mnist', one_hot=True) "
   ]
  },
  {
   "cell_type": "code",
   "execution_count": 8,
   "metadata": {
    "collapsed": false
   },
   "outputs": [
    {
     "name": "stdout",
     "output_type": "stream",
     "text": [
      " 55000 10000 5000 784 10\n"
     ]
    }
   ],
   "source": [
    "n_train,ip_dim = mnist.train.images.shape\n",
    "n_test,_ = mnist.test.images.shape\n",
    "n_val,_ = mnist.validation.images.shape\n",
    "_,op_dim = mnist.train.labels.shape\n",
    "print n_train,n_test,n_val,ip_dim,op_dim"
   ]
  },
  {
   "cell_type": "code",
   "execution_count": 14,
   "metadata": {
    "collapsed": true
   },
   "outputs": [],
   "source": [
    "X = tf.placeholder(tf.float32,shape=[batch_size,ip_dim],name=\"X\")\n",
    "Y = tf.placeholder(tf.float32,shape=[batch_size,op_dim],name=\"Y\")"
   ]
  },
  {
   "cell_type": "code",
   "execution_count": 15,
   "metadata": {
    "collapsed": false
   },
   "outputs": [],
   "source": [
    "w = tf.Variable(tf.random_normal(shape=[ip_dim,op_dim],stddev=0.01),name=\"w\")\n",
    "b = tf.Variable(tf.zeros([1,op_dim]),name=\"b\")"
   ]
  },
  {
   "cell_type": "code",
   "execution_count": 16,
   "metadata": {
    "collapsed": false
   },
   "outputs": [],
   "source": [
    "score = tf.add(tf.matmul(X,w),b,name=\"score\")"
   ]
  },
  {
   "cell_type": "code",
   "execution_count": 18,
   "metadata": {
    "collapsed": false
   },
   "outputs": [],
   "source": [
    "entropy = tf.nn.softmax_cross_entropy_with_logits(logits=score,labels=Y,name=\"entropy\")\n",
    "loss = tf.reduce_mean(entropy,name=\"loss\")"
   ]
  },
  {
   "cell_type": "code",
   "execution_count": 19,
   "metadata": {
    "collapsed": true
   },
   "outputs": [],
   "source": [
    "optimizer = tf.train.GradientDescentOptimizer(learning_rate=learning_rate).minimize(loss)\n",
    "init = tf.global_variables_initializer()"
   ]
  },
  {
   "cell_type": "code",
   "execution_count": 22,
   "metadata": {
    "collapsed": false
   },
   "outputs": [
    {
     "name": "stdout",
     "output_type": "stream",
     "text": [
      "Epoch:  0 , average loss:  1.2829153221\n",
      "Epoch:  1 , average loss:  0.730841128143\n",
      "Epoch:  2 , average loss:  0.599232687817\n",
      "Epoch:  3 , average loss:  0.535686386562\n",
      "Epoch:  4 , average loss:  0.497347289518\n",
      "Epoch:  5 , average loss:  0.470151026349\n",
      "Epoch:  6 , average loss:  0.450987611305\n",
      "Epoch:  7 , average loss:  0.435425111186\n",
      "Epoch:  8 , average loss:  0.42269295197\n",
      "Epoch:  9 , average loss:  0.412661176114\n",
      "Epoch:  10 , average loss:  0.404268250807\n",
      "Epoch:  11 , average loss:  0.396583101237\n",
      "Epoch:  12 , average loss:  0.389924105648\n",
      "Epoch:  13 , average loss:  0.384073925289\n",
      "Epoch:  14 , average loss:  0.37913419018\n",
      "Epoch:  15 , average loss:  0.374374528344\n",
      "Epoch:  16 , average loss:  0.370132436181\n",
      "Epoch:  17 , average loss:  0.366272104405\n",
      "Epoch:  18 , average loss:  0.362751990869\n",
      "Epoch:  19 , average loss:  0.359394626635\n",
      "Epoch:  20 , average loss:  0.356522782005\n",
      "Epoch:  21 , average loss:  0.353355189234\n",
      "Epoch:  22 , average loss:  0.350886659953\n",
      "Epoch:  23 , average loss:  0.348774930883\n",
      "Epoch:  24 , average loss:  0.346279555406\n",
      "Total training time:  19.746778965  seconds\n",
      "Accuracy:  0.9103\n"
     ]
    }
   ],
   "source": [
    "with tf.Session() as sess:\n",
    "    #writer = tf.summary.FileWriter('./graphs',sess.graph)\n",
    "    sess.run(init)\n",
    "    start_time = time.time()\n",
    "    n_batches = int(n_train / batch_size)\n",
    "    for i in range(n_epochs):\n",
    "        total_loss = 0.0\n",
    "        for _ in range(n_batches):\n",
    "            X_batch,Y_batch = mnist.train.next_batch(batch_size)\n",
    "            _,l = sess.run([optimizer,loss],feed_dict={X:X_batch,Y:Y_batch})\n",
    "            total_loss += l\n",
    "        print \"Epoch: \",i,\", average loss: \",(total_loss / n_batches)\n",
    "        \n",
    "    print \"Total training time: \",(time.time() - start_time),\" seconds\"\n",
    "    \n",
    "    n_batches = int(n_test / batch_size)\n",
    "    total_correct_pred = 0\n",
    "    for _ in range(n_batches):\n",
    "        X_batch,Y_batch = mnist.test.next_batch(batch_size)\n",
    "        _,l,s = sess.run([optimizer,loss,score],feed_dict={X:X_batch,Y:Y_batch})\n",
    "        prob = tf.nn.softmax(s,name=\"prob\")\n",
    "        correct_pred = tf.equal(tf.argmax(prob,1),tf.argmax(Y_batch,1),name=\"correct_pred\")\n",
    "        num_correct_pred = tf.reduce_sum(tf.cast(correct_pred,tf.float32),name=\"num_correct_pred\")\n",
    "        total_correct_pred += sess.run(num_correct_pred)\n",
    "    print \"Accuracy: \",(total_correct_pred / n_test)\n",
    "    #writer.close()"
   ]
  },
  {
   "cell_type": "code",
   "execution_count": null,
   "metadata": {
    "collapsed": true
   },
   "outputs": [],
   "source": []
  }
 ],
 "metadata": {
  "kernelspec": {
   "display_name": "Python 2",
   "language": "python",
   "name": "python2"
  },
  "language_info": {
   "codemirror_mode": {
    "name": "ipython",
    "version": 2
   },
   "file_extension": ".py",
   "mimetype": "text/x-python",
   "name": "python",
   "nbconvert_exporter": "python",
   "pygments_lexer": "ipython2",
   "version": "2.7.13"
  }
 },
 "nbformat": 4,
 "nbformat_minor": 2
}
