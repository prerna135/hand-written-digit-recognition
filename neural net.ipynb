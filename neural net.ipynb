{
 "cells": [
  {
   "cell_type": "code",
   "execution_count": 1,
   "metadata": {
    "collapsed": true
   },
   "outputs": [],
   "source": [
    "import tensorflow as tf\n",
    "import matplotlib.pyplot as pylt\n",
    "import numpy as np\n",
    "from tensorflow.examples.tutorials.mnist import input_data\n",
    "import time"
   ]
  },
  {
   "cell_type": "code",
   "execution_count": 2,
   "metadata": {
    "collapsed": true
   },
   "outputs": [],
   "source": [
    "learning_rate = 0.01\n",
    "batch_size = 128\n",
    "n_epochs = 25"
   ]
  },
  {
   "cell_type": "code",
   "execution_count": 4,
   "metadata": {
    "collapsed": false
   },
   "outputs": [
    {
     "name": "stdout",
     "output_type": "stream",
     "text": [
      "Extracting ./data/mnist/train-images-idx3-ubyte.gz\n",
      "Extracting ./data/mnist/train-labels-idx1-ubyte.gz\n",
      "Extracting ./data/mnist/t10k-images-idx3-ubyte.gz\n",
      "Extracting ./data/mnist/t10k-labels-idx1-ubyte.gz\n"
     ]
    }
   ],
   "source": [
    "mnist = input_data.read_data_sets('./data/mnist', one_hot=True) "
   ]
  },
  {
   "cell_type": "code",
   "execution_count": 5,
   "metadata": {
    "collapsed": false
   },
   "outputs": [
    {
     "name": "stdout",
     "output_type": "stream",
     "text": [
      "55000 10000 5000 784 10 800\n"
     ]
    }
   ],
   "source": [
    "n_train,ip_dim = mnist.train.images.shape\n",
    "n_test,_ = mnist.test.images.shape\n",
    "n_val,_ = mnist.validation.images.shape\n",
    "_,op_dim = mnist.train.labels.shape\n",
    "hidden_dim = 800\n",
    "print n_train,n_test,n_val,ip_dim,op_dim,hidden_dim"
   ]
  },
  {
   "cell_type": "code",
   "execution_count": 6,
   "metadata": {
    "collapsed": true
   },
   "outputs": [],
   "source": [
    "X = tf.placeholder(tf.float32,shape=[batch_size,ip_dim],name=\"X\")\n",
    "Y = tf.placeholder(tf.float32,shape=[batch_size,op_dim],name=\"Y\")"
   ]
  },
  {
   "cell_type": "code",
   "execution_count": 7,
   "metadata": {
    "collapsed": true
   },
   "outputs": [],
   "source": [
    "w1 = tf.Variable(tf.random_normal(shape=[ip_dim,hidden_dim],stddev=0.01),name=\"w1\")\n",
    "b1 = tf.Variable(tf.zeros([1,hidden_dim]),name=\"b1\")\n",
    "w2 = tf.Variable(tf.random_normal(shape=[hidden_dim,op_dim],stddev=0.01),name=\"w2\")\n",
    "b2 = tf.Variable(tf.zeros([1,op_dim]),name=\"b2\")"
   ]
  },
  {
   "cell_type": "code",
   "execution_count": 8,
   "metadata": {
    "collapsed": true
   },
   "outputs": [],
   "source": [
    "h1 = tf.add(tf.matmul(X,w1),b1,name=\"h1\")\n",
    "a1 = tf.sigmoid(h1,name=\"a1\")\n",
    "h2 = tf.add(tf.matmul(a1,w2),b2,name=\"h2\")\n",
    "a2 = tf.sigmoid(h2,name=\"a2\")"
   ]
  },
  {
   "cell_type": "code",
   "execution_count": 9,
   "metadata": {
    "collapsed": true
   },
   "outputs": [],
   "source": [
    "entropy = tf.nn.softmax_cross_entropy_with_logits(logits=a2,labels=Y,name=\"entropy\")\n",
    "loss = tf.reduce_mean(entropy,name=\"loss\")"
   ]
  },
  {
   "cell_type": "code",
   "execution_count": 10,
   "metadata": {
    "collapsed": true
   },
   "outputs": [],
   "source": [
    "optimizer = tf.train.GradientDescentOptimizer(learning_rate=learning_rate).minimize(loss)\n",
    "init = tf.global_variables_initializer()"
   ]
  },
  {
   "cell_type": "code",
   "execution_count": 11,
   "metadata": {
    "collapsed": false
   },
   "outputs": [
    {
     "name": "stdout",
     "output_type": "stream",
     "text": [
      "Epoch:  0 , average loss:  2.30020505954\n",
      "Epoch:  1 , average loss:  2.29704526588\n",
      "Epoch:  2 , average loss:  2.29396765882\n",
      "Epoch:  3 , average loss:  2.29039098889\n",
      "Epoch:  4 , average loss:  2.28620241516\n",
      "Epoch:  5 , average loss:  2.28110081499\n",
      "Epoch:  6 , average loss:  2.27485662518\n",
      "Epoch:  7 , average loss:  2.26711575301\n",
      "Epoch:  8 , average loss:  2.25746712985\n",
      "Epoch:  9 , average loss:  2.24564247976\n",
      "Epoch:  10 , average loss:  2.23113106403\n",
      "Epoch:  11 , average loss:  2.2137881359\n",
      "Epoch:  12 , average loss:  2.19373578625\n",
      "Epoch:  13 , average loss:  2.17100291541\n",
      "Epoch:  14 , average loss:  2.14622756818\n",
      "Epoch:  15 , average loss:  2.11989925236\n",
      "Epoch:  16 , average loss:  2.09305336926\n",
      "Epoch:  17 , average loss:  2.06619708855\n",
      "Epoch:  18 , average loss:  2.04009951328\n",
      "Epoch:  19 , average loss:  2.01537333585\n",
      "Epoch:  20 , average loss:  1.99219869595\n",
      "Epoch:  21 , average loss:  1.97101764496\n",
      "Epoch:  22 , average loss:  1.95153756464\n",
      "Epoch:  23 , average loss:  1.93389676695\n",
      "Epoch:  24 , average loss:  1.91789275005\n",
      "Total training time:  232.780970812  seconds\n",
      "Accuracy:  0.7601\n"
     ]
    }
   ],
   "source": [
    "with tf.Session() as sess:\n",
    "    #writer = tf.summary.FileWriter('./graphs',sess.graph)\n",
    "    sess.run(init)\n",
    "    start_time = time.time()\n",
    "    n_batches = int(n_train / batch_size)\n",
    "    for i in range(n_epochs):\n",
    "        total_loss = 0.0\n",
    "        for _ in range(n_batches):\n",
    "            X_batch,Y_batch = mnist.train.next_batch(batch_size)\n",
    "            _,l = sess.run([optimizer,loss],feed_dict={X:X_batch,Y:Y_batch})\n",
    "            total_loss += l\n",
    "        print \"Epoch: \",i,\", average loss: \",(total_loss / n_batches)\n",
    "        \n",
    "    print \"Total training time: \",(time.time() - start_time),\" seconds\"\n",
    "    \n",
    "    n_batches = int(n_test / batch_size)\n",
    "    total_correct_pred = 0\n",
    "    for _ in range(n_batches):\n",
    "        X_batch,Y_batch = mnist.test.next_batch(batch_size)\n",
    "        _,l,s = sess.run([optimizer,loss,a2],feed_dict={X:X_batch,Y:Y_batch})\n",
    "        prob = tf.nn.softmax(s,name=\"prob\")\n",
    "        correct_pred = tf.equal(tf.argmax(prob,1),tf.argmax(Y_batch,1),name=\"correct_pred\")\n",
    "        num_correct_pred = tf.reduce_sum(tf.cast(correct_pred,tf.float32),name=\"num_correct_pred\")\n",
    "        total_correct_pred += sess.run(num_correct_pred)\n",
    "    print \"Accuracy: \",(total_correct_pred / n_test)\n",
    "#writer.close()"
   ]
  },
  {
   "cell_type": "code",
   "execution_count": null,
   "metadata": {
    "collapsed": true
   },
   "outputs": [],
   "source": []
  }
 ],
 "metadata": {
  "kernelspec": {
   "display_name": "Python 2",
   "language": "python",
   "name": "python2"
  },
  "language_info": {
   "codemirror_mode": {
    "name": "ipython",
    "version": 2
   },
   "file_extension": ".py",
   "mimetype": "text/x-python",
   "name": "python",
   "nbconvert_exporter": "python",
   "pygments_lexer": "ipython2",
   "version": "2.7.13"
  }
 },
 "nbformat": 4,
 "nbformat_minor": 2
}
